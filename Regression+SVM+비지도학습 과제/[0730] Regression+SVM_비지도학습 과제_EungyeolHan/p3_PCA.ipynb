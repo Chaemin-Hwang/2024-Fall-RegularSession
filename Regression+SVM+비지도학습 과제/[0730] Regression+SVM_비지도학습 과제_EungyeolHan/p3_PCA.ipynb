{
 "cells": [
  {
   "cell_type": "markdown",
   "metadata": {
    "id": "mjx78c5cqfkF"
   },
   "source": [
    "# p3. MNIST Classification via PCA Reconstruction"
   ]
  },
  {
   "cell_type": "markdown",
   "metadata": {
    "id": "NWcrS-ZAqfkG"
   },
   "source": [
    "- 기수: 11기\n",
    "\n",
    "- 이름: 한은결\n",
    "\n",
    "- 작성자: 11기 김정우\n"
   ]
  },
  {
   "cell_type": "markdown",
   "metadata": {},
   "source": [
    "_본 과제는 Songkuk Kim의 Programming for Data Science (IIT3308) 과제에 참조하였음을 밝힙니다._\n"
   ]
  },
  {
   "cell_type": "markdown",
   "metadata": {
    "id": "yMiS9F-uqfkG"
   },
   "source": [
    "PCA는 고차원 데이터의 특징을 최대한 보존하면서 차원을 낮추기 위한 방법인 Dimensionality Reduction의 대표적인 method 중 하나입니다.\n",
    "\n",
    "PCA는 결과적으로 원본 데이터의 Variance를 최대한 보존할 수 있는 Principal Component들을 찾는 것을 목표로 합니다. 그리고 선정한 Principal Component들은 모두 일정한 Explained Variance를 갖게 됩니다.\n",
    "\n",
    "각 Principal Component의 설명력은 Covariance의 관점에서 PCA를 살펴보면 알 수 있습니다.\n",
    "\n",
    "결국 Covariance Matrix에 대한 Eigenvalue Decomposition을 수행한 결과로써 PCA를 해석할 수 있는데, 이때 설명력이 높은 순서는 Eigenvalue의 크기가 큰 순서와 동일합니다.\n",
    "\n",
    "본 과제 문제에서는 이러한 PCA의 간단한 구현과 Explained Variance 시각화에 대한 내용, 그리고 더 나아가 Reconstruction Error를 기반으로 한 간단한 Classification Task를 다룹니다.\n"
   ]
  },
  {
   "cell_type": "markdown",
   "metadata": {
    "id": "O9hp41sbqfkG"
   },
   "source": [
    "## 1. Introduction: What is Reconstruction Error?\n"
   ]
  },
  {
   "cell_type": "markdown",
   "metadata": {
    "id": "4MTsz99hqfkH"
   },
   "source": [
    "- **Reconstruction Error란 PCA를 이용한 Dimensionality Reduction 이후 다시 Dimension을 원래대로 Reconstruction하는 과정에서 발생하는 오차를 의미합니다.**\n"
   ]
  },
  {
   "cell_type": "markdown",
   "metadata": {
    "id": "9msFghyCqfkH"
   },
   "source": [
    "<hr/>\n",
    "\n",
    "Dimensionality Reduction은 결국 정보량의 손실 (압축) 입니다. 아무리 Variance가 높게 Principal Component를 잘 설정한다 하더라도 정보량의 손실은 불가피합니다.\n",
    "\n",
    "724차원의 데이터에 PCA를 적용하면서 Principal Component의 개수 $N$ 을 $10, 100, 250$ 각각으로 설정함에 따라 축소된 차원에서 보존되는 정보량이 늘어나게 됩니다.\n",
    "\n",
    "또한 $N = 724$ 로 설정하게 되면 PCA를 진행하더라도, Dimension은 축소되지 않으며, 곧 정보량 또한 손실되지 않습니다.\n"
   ]
  },
  {
   "cell_type": "markdown",
   "metadata": {
    "id": "ZNSJg3_eqfkH"
   },
   "source": [
    "- **그렇다면 PCA Reconstruction이란 무엇인가요?**\n"
   ]
  },
  {
   "cell_type": "markdown",
   "metadata": {
    "id": "GAonYrK9qfkH"
   },
   "source": [
    "<hr/>\n",
    "\n",
    "Reduction을 거친 축소된 차원에서 다시 Principal Component를 사용한다면 원본 데이터를 복원할 수 있습니다. (PCA의 역연산)\n",
    "\n",
    "그렇다면 Principal Component의 개수가 많을수록, 손실된 정보량이 적기 때문에 더욱 완벽한 원본 이미지를 복원할 수 있겠죠?\n"
   ]
  },
  {
   "cell_type": "markdown",
   "metadata": {
    "id": "sK2cImNnqnWw"
   },
   "source": [
    "- **그렇다면 고양이에 대한 데이터들에 대해 구한 Principal Component로 오토바이의 사진을 복원한다면 어떻게 될까요?**\n"
   ]
  },
  {
   "cell_type": "markdown",
   "metadata": {
    "id": "9NSHIH98qzYP"
   },
   "source": [
    "<hr/>\n",
    "\n",
    "간단하게 오토바이와 고양이의 사진들로 구성된 데이터셋이 있다고 가정해봅시다. 고양이들의 사진을 기준으로 PCA를 진행하기 위해 Principal Component를 구했습니다.\n",
    "\n",
    "동일한 Principal Component로 오토바이 사진에 대해 Dimensionality Reduction과 Reconstruction을 진행한다면 어떻게 될까요?\n"
   ]
  },
  {
   "cell_type": "markdown",
   "metadata": {
    "id": "pJFyUp9XrhRD"
   },
   "source": [
    "- **당연히 Reconstruction Error는 오토바이 사진보다 고양이 사진에서 훨씬 더 낮을 것입니다!**\n"
   ]
  },
  {
   "cell_type": "markdown",
   "metadata": {
    "id": "TbVrW7O0ru6F"
   },
   "source": [
    "<hr/>\n",
    "\n",
    "본 과제에서는 이러한 특성을 이용해 각 라벨에 대한 Principal Component들을 구하고, 그를 기반으로 Reconstruction Error를 비교하여 라벨을 선택해보고자 합니다.\n"
   ]
  },
  {
   "cell_type": "markdown",
   "metadata": {
    "id": "QuJBBuoesO7E"
   },
   "source": [
    "## 2. Load Dataset\n"
   ]
  },
  {
   "cell_type": "code",
   "execution_count": 1,
   "metadata": {
    "id": "Qi7bWRI4qyv7"
   },
   "outputs": [],
   "source": [
    "import numpy as np\n",
    "import matplotlib.pyplot as plt\n",
    "from sklearn.datasets import fetch_openml\n",
    "from sklearn.model_selection import train_test_split\n",
    "from sklearn.metrics import confusion_matrix\n",
    "\n",
    "import seaborn as sns"
   ]
  },
  {
   "cell_type": "code",
   "execution_count": 2,
   "metadata": {
    "colab": {
     "base_uri": "https://localhost:8080/"
    },
    "id": "77Vq45BssNjs",
    "outputId": "7fd13969-6d34-4db9-b4db-a149052ffda2"
   },
   "outputs": [
    {
     "name": "stderr",
     "output_type": "stream",
     "text": [
      "C:\\Users\\ekhan\\anaconda3\\Lib\\site-packages\\sklearn\\datasets\\_openml.py:1002: FutureWarning: The default value of `parser` will change from `'liac-arff'` to `'auto'` in 1.4. You can set `parser='auto'` to silence this warning. Therefore, an `ImportError` will be raised from 1.4 if the dataset is dense and pandas is not installed. Note that the pandas parser may return different data types. See the Notes Section in fetch_openml's API doc for details.\n",
      "  warn(\n"
     ]
    }
   ],
   "source": [
    "# Load MNIST Dataset\n",
    "mnist = fetch_openml('mnist_784', version=1)\n",
    "X = mnist.data.values.astype(np.float32)\n",
    "y = mnist.target.astype(int)"
   ]
  },
  {
   "cell_type": "code",
   "execution_count": 3,
   "metadata": {
    "colab": {
     "base_uri": "https://localhost:8080/"
    },
    "id": "lyEmfZDStVKy",
    "outputId": "348a19ee-440c-488c-95e2-2d3e70e87d9c"
   },
   "outputs": [
    {
     "name": "stdout",
     "output_type": "stream",
     "text": [
      "Data Shape: (70000, 784)\n",
      "Label Shape: (70000,)\n"
     ]
    }
   ],
   "source": [
    "print(\"Data Shape:\", X.shape) # Data Shape\n",
    "print(\"Label Shape:\", y.shape) # Label Shape"
   ]
  },
  {
   "cell_type": "code",
   "execution_count": 4,
   "metadata": {
    "colab": {
     "base_uri": "https://localhost:8080/",
     "height": 402
    },
    "id": "Esz9lufKtyZJ",
    "outputId": "a77f0f3b-6642-4c49-baca-f4670830c271"
   },
   "outputs": [
    {
     "data": {
      "image/png": "[encoded data removed]",
      "text/plain": [
       "<Figure size 1500x500 with 3 Axes>"
      ]
     },
     "metadata": {},
     "output_type": "display_data"
    }
   ],
   "source": [
    "# Data Visualization\n",
    "plt.figure(figsize=(15, 5))\n",
    "\n",
    "for i in range(3):\n",
    "  plt.subplot(1, 3, i+1)\n",
    "  plt.imshow(X[i].reshape(28, 28), cmap='gray')\n",
    "\n",
    "plt.show()"
   ]
  },
  {
   "cell_type": "code",
   "execution_count": 5,
   "metadata": {
    "id": "54GvqIB7uZnP"
   },
   "outputs": [],
   "source": [
    "# Dataset pre-process: Normalization\n",
    "def normalize_data(X):\n",
    "\n",
    "    mean = np.mean(X, axis = 0)\n",
    "    std = np.mean(X,axis=0)\n",
    "\n",
    "    std[std == 0] = 1 # Avoid division by zero\n",
    "    X_normalized = (X - mean) / std\n",
    "\n",
    "    return X_normalized\n",
    "\n",
    "X_normalized = normalize_data(X)"
   ]
  },
  {
   "cell_type": "code",
   "execution_count": 6,
   "metadata": {
    "id": "ALHc8aOeqfkH"
   },
   "outputs": [],
   "source": [
    "# Split into train/test set\n",
    "X_train, X_test, y_train, y_test = train_test_split(X_normalized, y, test_size=0.3, random_state=2024)"
   ]
  },
  {
   "cell_type": "code",
   "execution_count": 7,
   "metadata": {
    "colab": {
     "base_uri": "https://localhost:8080/"
    },
    "id": "FDW02_64uQwg",
    "outputId": "e40ffa00-e6e5-4346-9e8c-399bd3747ed7"
   },
   "outputs": [
    {
     "name": "stdout",
     "output_type": "stream",
     "text": [
      "Train Dataset Shape: (49000, 784)\n",
      "Test Dataset Shape: (21000, 784)\n"
     ]
    }
   ],
   "source": [
    "# Check train/test set\n",
    "print(\"Train Dataset Shape:\", X_train.shape)\n",
    "print(\"Test Dataset Shape:\", X_test.shape)"
   ]
  },
  {
   "cell_type": "markdown",
   "metadata": {
    "id": "_kW2HvozvaZI"
   },
   "source": [
    "_이어지는 과정에서 라벨별 데이터에 대한 Principal Component를 각각 생성하기 위해 Train Dataset은 라벨에 따라 분류해줍니다._\n",
    "\n",
    "<hr/>\n"
   ]
  },
  {
   "cell_type": "code",
   "execution_count": 8,
   "metadata": {
    "colab": {
     "base_uri": "https://localhost:8080/"
    },
    "id": "pGEJZL1PvSAk",
    "outputId": "665c0786-66f6-412b-e4b1-d7f185eab68c"
   },
   "outputs": [
    {
     "data": {
      "text/plain": [
       "(4815, 784)"
      ]
     },
     "execution_count": 8,
     "metadata": {},
     "output_type": "execute_result"
    }
   ],
   "source": [
    "# Split train dataset into each labels\n",
    "label_datasets_train = {label: X_train[y_train == label] for label in range(10)}\n",
    "\n",
    "label_datasets_train[0].shape"
   ]
  },
  {
   "cell_type": "markdown",
   "metadata": {
    "id": "w786QDdYvLa3"
   },
   "source": [
    "## 3. Basic PCA\n"
   ]
  },
  {
   "cell_type": "markdown",
   "metadata": {
    "id": "YW81ACS1wG-8"
   },
   "source": [
    "본 문제에서는 PCA 라이브러리가 아닌, 행렬 단위 연산을 통해 PCA 함수를 직접 구현하고자 합니다.\n",
    "\n",
    "<hr/>\n"
   ]
  },
  {
   "cell_type": "code",
   "execution_count": 11,
   "metadata": {
    "id": "8001k1HmuQzV"
   },
   "outputs": [],
   "source": [
    "# PCA Function\n",
    "def compute_pca(X, n_components): # X: Data Sampe (*, 784)  # n_components: Number of Principal Component\n",
    "\n",
    "    # Get Covariance matrix\n",
    "    covariance_matrix = np.cov(X.T)\n",
    "\n",
    "    # Eigen decomposition\n",
    "    eigenvalues, eigenvectors = np.linalg.eigh(covariance_matrix)\n",
    "\n",
    "    # Sort eigenvectors by eigenvalues in descending order\n",
    "    sorted_indices = np.argsort(eigenvalues)[::-1]\n",
    "    sorted_eigenvalues = eigenvalues[sorted_indices]\n",
    "    sorted_eigenvectors = eigenvectors[:, sorted_indices]\n",
    "\n",
    "    # Select the top n_components\n",
    "    selected_eigenvectors = sorted_eigenvectors[:, :n_components]\n",
    "\n",
    "    # Explained Variance\n",
    "    explained_variance = sorted_eigenvalues[:n_components] / np.sum(sorted_eigenvalues)\n",
    "\n",
    "    return selected_eigenvectors, explained_variance"
   ]
  },
  {
   "cell_type": "code",
   "execution_count": 12,
   "metadata": {
    "id": "DSU2S7YsuQ1d"
   },
   "outputs": [],
   "source": [
    "# Example\n",
    "pca_example1, explained_variance1 = compute_pca(X_train, 32) # Change PCA Feature Number"
   ]
  },
  {
   "cell_type": "code",
   "execution_count": 13,
   "metadata": {
    "colab": {
     "base_uri": "https://localhost:8080/",
     "height": 487
    },
    "id": "16dPsqHJ1HEK",
    "outputId": "2e1e7159-1900-4fa7-ae01-cb71112a1a4e"
   },
   "outputs": [
    {
     "data": {
      "image/png": "[encoded data removed]",
      "text/plain": [
       "<Figure size 1000x500 with 1 Axes>"
      ]
     },
     "metadata": {},
     "output_type": "display_data"
    }
   ],
   "source": [
    "plt.figure(figsize=(10, 5))\n",
    "plt.plot(explained_variance1)\n",
    "plt.xlabel('Number of Components')\n",
    "plt.ylabel('Explained Variance')\n",
    "plt.title('Explained Variance by Components')\n",
    "plt.show()"
   ]
  },
  {
   "cell_type": "markdown",
   "metadata": {
    "id": "TJWF81gp3ORp"
   },
   "source": [
    "## 4. PCA Reconstruction\n"
   ]
  },
  {
   "cell_type": "markdown",
   "metadata": {
    "id": "1gH5L12P7BAx"
   },
   "source": [
    "아래와 같이 PCA 기반으로 MNIST 데이터셋의 Dimension을 낮추고, 다시 복원하는 과정을 진행할 수 있습니다.\n",
    "\n",
    "Original Image와 Reconstructed Image의 시각화에서 살펴볼 수 있듯, Reconstructed Image가 Original과 상당한 유사도를 갖게 됨을 확인할 수 있습니다.\n",
    "\n",
    "<hr/>\n"
   ]
  },
  {
   "cell_type": "markdown",
   "metadata": {
    "id": "ZrFGBBBPAOTi"
   },
   "source": [
    "**label_datasets_train의 idx와 해당 데이터셋 안에서의 idx값, principal component의 개수를 다양하게 바꿔보면서 실험해보세요!**\n"
   ]
  },
  {
   "cell_type": "code",
   "execution_count": 14,
   "metadata": {
    "id": "AnhzJn1w1ELy"
   },
   "outputs": [],
   "source": [
    "# PCA Calculation for label 0 dataset\n",
    "pca_example2, explained_variance2 = compute_pca(label_datasets_train[0], 32)"
   ]
  },
  {
   "cell_type": "code",
   "execution_count": 15,
   "metadata": {
    "id": "agYGTnxo43WV"
   },
   "outputs": [],
   "source": [
    "# Reconstruction error function (Inverse of PCA)\n",
    "def pca_reconstruction(X, eigenvectors):\n",
    "    X_pca = np.dot(eigenvectors, eigenvectors.T)\n",
    "    X_reconstructed = np.dot(X,X_pca)\n",
    "    error = np.mean(np.power(X - X_reconstructed, 2))\n",
    "\n",
    "    return X_reconstructed, error"
   ]
  },
  {
   "cell_type": "code",
   "execution_count": 16,
   "metadata": {
    "id": "COKyKFnU54II"
   },
   "outputs": [],
   "source": [
    "reconstructed_example2, error2 = pca_reconstruction(label_datasets_train[0], pca_example2)"
   ]
  },
  {
   "cell_type": "code",
   "execution_count": 17,
   "metadata": {
    "colab": {
     "base_uri": "https://localhost:8080/",
     "height": 433
    },
    "id": "YJNhx6H26ADS",
    "outputId": "5afb65ca-7c7d-458c-f9d6-371966efff8b"
   },
   "outputs": [
    {
     "data": {
      "image/png": "[encoded data removed]",
      "text/plain": [
       "<Figure size 1000x1000 with 2 Axes>"
      ]
     },
     "metadata": {},
     "output_type": "display_data"
    }
   ],
   "source": [
    "plt.figure(figsize=(10, 10))\n",
    "\n",
    "plt.subplot(2, 2, 1)\n",
    "plt.imshow(label_datasets_train[0][0].reshape(28, 28), cmap='gray')\n",
    "plt.title('PCA Result')\n",
    "\n",
    "plt.subplot(2, 2, 2)\n",
    "plt.imshow(reconstructed_example2[0].reshape(28, 28), cmap='gray')\n",
    "plt.title('Reconstructed Result')\n",
    "\n",
    "plt.show()"
   ]
  },
  {
   "cell_type": "markdown",
   "metadata": {
    "id": "6RCOiJmKCeJt"
   },
   "source": [
    "**주어진 n_components_list에 다양한 Principal Component의 수를 적용하면서 Reconstruction 결과를 확인해보세요!**\n"
   ]
  },
  {
   "cell_type": "code",
   "execution_count": 21,
   "metadata": {
    "colab": {
     "base_uri": "https://localhost:8080/",
     "height": 283
    },
    "id": "upXWnSsuBoLW",
    "outputId": "d56cad0f-479c-47d2-e804-094be31d4eea"
   },
   "outputs": [
    {
     "data": {
      "image/png": "[encoded data removed]",
      "text/plain": [
       "<Figure size 1500x500 with 5 Axes>"
      ]
     },
     "metadata": {},
     "output_type": "display_data"
    }
   ],
   "source": [
    "n_components_list = [8, 32, 128, 512]\n",
    "\n",
    "fig, axs = plt.subplots(1, len(n_components_list) + 1, figsize=(15, 5))\n",
    "\n",
    "# Original image\n",
    "axs[0].imshow(label_datasets_train[0][0].reshape(28, 28), cmap='gray')\n",
    "axs[0].set_title('Original')\n",
    "\n",
    "for i, n_components in enumerate(n_components_list):\n",
    "    pca_example, explained_variance = compute_pca(label_datasets_train[0], n_components)\n",
    "    reconstructed_example, error = pca_reconstruction(label_datasets_train[0], pca_example)\n",
    "\n",
    "    axs[i+1].imshow(reconstructed_example[0].reshape(28, 28), cmap='gray')\n",
    "    axs[i+1].set_title(f'n = {n_components},  error = {error:.2f}')\n",
    "\n",
    "plt.show()"
   ]
  },
  {
   "cell_type": "markdown",
   "metadata": {
    "id": "RVgGESbDSmfv"
   },
   "source": [
    "## 5. MNIST Classification via PCA Reconstruction Error\n"
   ]
  },
  {
   "cell_type": "markdown",
   "metadata": {
    "id": "tYX4J4o3Sqi0"
   },
   "source": [
    "앞서 #4에서 살펴본 Reconstruction Error에 대해 다시 생각해보겠습니다.\n",
    "\n",
    "MNIST 데이터셋을 기준으로, Label이 0인 데이터셋에 대해 Principal Component를 구했다고 해봅시다.\n",
    "\n",
    "구한 Principal Component를 이용해 Reconstruction을 진행한다면, 1에 대한 데이터와 0에 대한 데이터 중 무엇이 Error가 더 낮을까요?\n",
    "\n",
    "Principal Component를 구하는 과정에서 사용한 Label에서 훨씬 Error가 낮기에, 이점을 이용해서 Classification Task를 수행해 볼 수 있습니다.\n",
    "\n",
    "<hr/>\n"
   ]
  },
  {
   "cell_type": "code",
   "execution_count": 22,
   "metadata": {
    "id": "j-wmKwN1BN0A"
   },
   "outputs": [],
   "source": [
    "# PCA on each label\n",
    "n_components = 32\n",
    "label_pcas = {}\n",
    "for label in range(10):\n",
    "    label_pcas[label], _ = compute_pca(label_datasets_train[label], n_components)"
   ]
  },
  {
   "cell_type": "markdown",
   "metadata": {
    "id": "yxhAvSqPfnEC"
   },
   "source": [
    "_아래 predicted_label의 TODO에서 수행할 작업은 아래와 같습니다_\n",
    "\n",
    "1. X dataset에서 각각의 데이터를 구해둔 label_pcas를 기준으로 pca_reconstruction을 진행.\n",
    "\n",
    "2. 각 label_pcas에서 error를 비교하여 가장 작은 error를 보인 label을 predicted_labels 리스트에 append.\n",
    "\n",
    "3. 전체 함수는 predicted_labels를 반환.\n",
    "\n",
    "<hr/>\n"
   ]
  },
  {
   "cell_type": "code",
   "execution_count": 25,
   "metadata": {
    "id": "flhn6u82Wm-p"
   },
   "outputs": [],
   "source": [
    "# Prediction function\n",
    "def predict_label(X, label_pcas):\n",
    "\n",
    "    error_list = np.full((X.shape[0], 10), np.inf)\n",
    "\n",
    "    for i in range(X.shape[0]):\n",
    "        for j in label_pcas.keys():\n",
    "            _, error_list[i, j] = pca_reconstruction(X[i], label_pcas[j])\n",
    "\n",
    "    predicted_labels = np.argmin(error_list, axis = 1)\n",
    "\n",
    "    return predicted_labels"
   ]
  },
  {
   "cell_type": "code",
   "execution_count": null,
   "metadata": {
    "colab": {
     "base_uri": "https://localhost:8080/"
    },
    "id": "fRmZ9H_cWoat",
    "outputId": "d4464b4e-8676-4016-c489-067564043375"
   },
   "outputs": [],
   "source": [
    "predicted_labels = predict_label(X_test, label_pcas)\n",
    "\n",
    "# Compute accuracy\n",
    "accuracy = np.mean(np.array(predicted_labels) == y_test)\n",
    "print(f\"Accuracy on test set: {accuracy * 100:.2f}%\")"
   ]
  },
  {
   "cell_type": "code",
   "execution_count": null,
   "metadata": {
    "colab": {
     "base_uri": "https://localhost:8080/",
     "height": 718
    },
    "id": "8nEEejJdXDMl",
    "outputId": "c946b9de-98b1-474b-e651-d13aea0df60f"
   },
   "outputs": [],
   "source": [
    "# Confusion Matrix\n",
    "conf_matrix = confusion_matrix(y_test, predicted_labels)\n",
    "\n",
    "# Confusion Matrix Visualization\n",
    "plt.figure(figsize=(10, 8))\n",
    "sns.heatmap(conf_matrix, annot=True, fmt='d', cmap='Blues', xticklabels=range(10), yticklabels=range(10))\n",
    "plt.xlabel('Predicted Labels')\n",
    "plt.ylabel('True Labels')\n",
    "plt.title('Confusion Matrix')\n",
    "plt.show()"
   ]
  },
  {
   "cell_type": "markdown",
   "metadata": {
    "id": "zwA_FjAkgBAZ"
   },
   "source": [
    "## 6. Your Work!\n"
   ]
  },
  {
   "cell_type": "markdown",
   "metadata": {
    "id": "Qv8DfsjHgE-0"
   },
   "source": [
    "앞서 수행한 reconstruction error based classification에는 다양한 hyperparameter들이 있습니다.\n",
    "\n",
    "다양하게 hyperparmeter들을 변경해보면서 Prinicpal Component의 수와 classification의 정확도 사이에 어떤 상관관계가 있는지 자유롭게 분석해보세요.\n"
   ]
  },
  {
   "cell_type": "code",
   "execution_count": null,
   "metadata": {
    "id": "oVVUfVqNbune"
   },
   "outputs": [],
   "source": [
    "n_components_list = [8, 32, 128, 512]\n",
    "accuracies = []\n",
    "\n",
    "for n in n_components_list:\n",
    "    label_pcas = {}\n",
    "\n",
    "    # 각 레이블별 PCA 수행\n",
    "    for label in range(10):\n",
    "        label_pcas[label], _ = compute_pca(label_datasets_train[label], n)\n",
    "    \n",
    "    # 예측 라벨 생성\n",
    "    predicted_labels = predict_label(X_test, label_pcas)\n",
    "\n",
    "    # 정확도 계산\n",
    "    accuracy = np.mean(np.array(predicted_labels) == y_test)\n",
    "    accuracies.append(accuracy)\n",
    "\n",
    "    print(f\"Number of principal components for reconstruction : {n}\")\n",
    "    print(f\"Accuracy on test set: {accuracy * 100:.2f}%\\n\")"
   ]
  },
  {
   "cell_type": "code",
   "execution_count": null,
   "metadata": {},
   "outputs": [],
   "source": [
    "# 결과 시각화\n",
    "plt.figure(figsize=(10, 6))\n",
    "plt.plot(n_components_list, accuracies, marker='o')\n",
    "plt.title('Number of Principal Components vs. Classification Accuracy')\n",
    "plt.xlabel('Number of Principal Components')\n",
    "plt.ylabel('Accuracy')\n",
    "plt.grid(True)\n",
    "plt.show()"
   ]
  }
 ],
 "metadata": {
  "colab": {
   "provenance": []
  },
  "kernelspec": {
   "display_name": "Python 3 (ipykernel)",
   "language": "python",
   "name": "python3"
  },
  "language_info": {
   "codemirror_mode": {
    "name": "ipython",
    "version": 3
   },
   "file_extension": ".py",
   "mimetype": "text/x-python",
   "name": "python",
   "nbconvert_exporter": "python",
   "pygments_lexer": "ipython3",
   "version": "3.11.5"
  }
 },
 "nbformat": 4,
 "nbformat_minor": 1
}
